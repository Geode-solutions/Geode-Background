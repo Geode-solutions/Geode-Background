{
 "metadata": {
  "language_info": {
   "codemirror_mode": {
    "name": "ipython",
    "version": 3
   },
   "file_extension": ".py",
   "mimetype": "text/x-python",
   "name": "python",
   "nbconvert_exporter": "python",
   "pygments_lexer": "ipython3",
   "version": "3.8.5-final"
  },
  "orig_nbformat": 2,
  "kernelspec": {
   "name": "python38564bit803274702961490c8f23f97c39496878",
   "display_name": "Python 3.8.5 64-bit"
  }
 },
 "nbformat": 4,
 "nbformat_minor": 2,
 "cells": [
  {
   "source": [
    "# 2D Section construction from several independent meshes or Sections\n",
    "\n",
    "The goal is to build, from `EdgedCurve2D` meshes or invalid `Sections` a valid `Section` with all needed topological information as defined here: https://docs.geode-solutions.com/datamodel.\n",
    "A `Section` is the 2D equivalent for 3D `BRep`.\n"
   ],
   "cell_type": "markdown",
   "metadata": {}
  },
  {
   "source": [
    "## Import modules\n",
    "\n",
    "You need to import OpenGeode and Geode-BackgroundMesh modules."
   ],
   "cell_type": "markdown",
   "metadata": {}
  },
  {
   "cell_type": "code",
   "execution_count": null,
   "metadata": {},
   "outputs": [],
   "source": [
    "# Fix to better handle import since Python 3.8 on Windows\n",
    "import os, sys, platform\n",
    "if sys.version_info >= (3,8,0) and platform.system() == \"Windows\":\n",
    "    for path in [x.strip() for x in os.environ['PATH'].split(';') if x]:\n",
    "        os.add_dll_directory(path)\n",
    "\n",
    "import opengeode\n",
    "from geode_backgroundmesh import bmesh_2d # only the \"bmesh_2d\" part of the package is needed"
   ]
  },
  {
   "source": [
    "## Load input data and initialize BackgroundMesh\n",
    "\n",
    "In this section, we will see how to initialize the BackgroundMesh. You need to define the domain area of interest and a resolution. The domain area should to cover all the input data you need to insert in the BackgroundMesh. The resolution stands for the size of data regionalization in the BackgroundMesh: there is no need to define very fine resolution."
   ],
   "cell_type": "markdown",
   "metadata": {}
  },
  {
   "cell_type": "code",
   "execution_count": null,
   "metadata": {},
   "outputs": [],
   "source": [
    "# Load a Section\n",
    "section = opengeode.load_section(\"input_section.og_sctn\")\n",
    "# Define resolution\n",
    "bmesh_resolution = 1\n",
    "# Initialize the BackgroundMesh to the Section BoundingBox\n",
    "bmesh = bmesh_2d.BackgroundMesh2D(input_section.bounding_box(), bmesh_resolution)"
   ]
  },
  {
   "source": [
    "## Insert data in BackgroundMesh\n",
    "\n",
    "In this section, we will see how to insert data in the BackgroundMesh. This example shows with input Section, but equivalent method exists for EdgedCurve2D meshes."
   ],
   "cell_type": "markdown",
   "metadata": {}
  },
  {
   "cell_type": "code",
   "execution_count": null,
   "metadata": {},
   "outputs": [],
   "source": [
    "# Define a BackgroundMeshBuilder\n",
    "builder = bmesh_2d.BackgroundMeshBuilder2D(bmesh)\n",
    "# Insert section\n",
    "builder.insert_model(input_section)\n",
    "# You can also insert several EdgedCurve2D meshes, they will be combined to previous inserted elements: \n",
    "uuid1 = builder.insert_edged_curve(mesh1) \n",
    "uuid2 = builder.insert_edged_curve(mesh2) \n",
    "uuid3 = builder.insert_edged_curve(mesh3) \n",
    "uuid4 = builder.insert_edged_curve(mesh4) \n",
    "... \n"
   ]
  },
  {
   "source": [
    "## Extract and save output Sections\n",
    "\n",
    "In this section, we will see how to get Sections from the BackgroundMesh. There are several ways to extract: all the inserted information, or a subtract defined from a BoundingBox or a list of inserted lines defining a closed domain. The Section is build with Corners, Lines and Surfaces."
   ],
   "cell_type": "markdown",
   "metadata": {}
  },
  {
   "cell_type": "code",
   "execution_count": null,
   "metadata": {},
   "outputs": [],
   "source": [
    "# Extract all inserted data gathered into a Section\n",
    "output_section, mappings = bmesh_2d.extract_section(bmesh)\n",
    "# the second return value \"mappings\" is for advanced usage and can be discarded,\n",
    "# it offers the mappings between input line uuids and output ones.\n",
    " \n",
    "# Save section\n",
    "opengeode.save_section(\"output_section.og_sctn\")\n",
    "# Extract all inserted data gathered inside a BoundingBox as a Section\n",
    "bbox = opengeode.BoundingBox2D()\n",
    "bbox.add_point(opengeode.Point2D([10, 10]))\n",
    "bbox.add_point(opengeode.Point2D([14, 14]))\n",
    "output_section2, _ = bmesh_2d.extract_section_with_domain_bounding_box(bmesh, bbox)\n",
    "# Extract all inserted data gathered inside a list of inserted lines defining a closed domain as a Section\n",
    "output_section3, _ = bmesh_2d.extract_section_with_domain_limits(bmesh, [uuid1, uuid2, uuid3, uuid4])\n"
   ]
  }
 ]
}
